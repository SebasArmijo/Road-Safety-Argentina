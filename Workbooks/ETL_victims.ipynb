{
 "cells": [
  {
   "cell_type": "code",
   "execution_count": 55,
   "metadata": {},
   "outputs": [],
   "source": [
    "import pandas as pd"
   ]
  },
  {
   "cell_type": "markdown",
   "metadata": {},
   "source": [
    "## Overview\n",
    "The **ETL_victims** notebook is tailored to complement the **ETL_homicides** notebook, together forming a detailed dataset for traffic incident analysis. In \"ETL_victims,\" key tasks include converting Excel files to CSV for easier handling, removing empty rows resulting from this conversion, ensuring the absence of duplicates, correcting data types for dataset consistency, and translating all columns and content into English for clearer analysis. This careful preparation paves the way for seamless integration with the \"ETL_homicides\" dataset, providing a robust foundation for comprehensive analysis and contributing to efforts in enhancing road safety.\n",
    "\n",
    "\n"
   ]
  },
  {
   "cell_type": "markdown",
   "metadata": {},
   "source": [
    "## Data Extraction\n",
    "- Converted the excel files provided in the started pack into csv and load them onto the workbook"
   ]
  },
  {
   "cell_type": "code",
   "execution_count": 56,
   "metadata": {},
   "outputs": [],
   "source": [
    "file_path = '../Data/Raw/victimas_homicidios.csv'\n",
    "df_victims = pd.read_csv(file_path, encoding='ISO-8859-1')\n",
    "\n",
    "df_victims_clean = df_victims.copy()"
   ]
  },
  {
   "cell_type": "code",
   "execution_count": 57,
   "metadata": {},
   "outputs": [
    {
     "data": {
      "text/html": [
       "<div>\n",
       "<style scoped>\n",
       "    .dataframe tbody tr th:only-of-type {\n",
       "        vertical-align: middle;\n",
       "    }\n",
       "\n",
       "    .dataframe tbody tr th {\n",
       "        vertical-align: top;\n",
       "    }\n",
       "\n",
       "    .dataframe thead th {\n",
       "        text-align: right;\n",
       "    }\n",
       "</style>\n",
       "<table border=\"1\" class=\"dataframe\">\n",
       "  <thead>\n",
       "    <tr style=\"text-align: right;\">\n",
       "      <th></th>\n",
       "      <th>ID_hecho</th>\n",
       "      <th>FECHA</th>\n",
       "      <th>AAAA</th>\n",
       "      <th>MM</th>\n",
       "      <th>DD</th>\n",
       "      <th>ROL</th>\n",
       "      <th>VICTIMA</th>\n",
       "      <th>SEXO</th>\n",
       "      <th>EDAD</th>\n",
       "      <th>FECHA_FALLECIMIENTO</th>\n",
       "    </tr>\n",
       "  </thead>\n",
       "  <tbody>\n",
       "    <tr>\n",
       "      <th>715</th>\n",
       "      <td>2021-0095</td>\n",
       "      <td>30/12/2021</td>\n",
       "      <td>2021.0</td>\n",
       "      <td>12.0</td>\n",
       "      <td>30.0</td>\n",
       "      <td>CONDUCTOR</td>\n",
       "      <td>MOTO</td>\n",
       "      <td>MASCULINO</td>\n",
       "      <td>27</td>\n",
       "      <td>02/01/2022</td>\n",
       "    </tr>\n",
       "    <tr>\n",
       "      <th>716</th>\n",
       "      <td>2021-0096</td>\n",
       "      <td>15/12/2021</td>\n",
       "      <td>2021.0</td>\n",
       "      <td>12.0</td>\n",
       "      <td>15.0</td>\n",
       "      <td>CONDUCTOR</td>\n",
       "      <td>AUTO</td>\n",
       "      <td>MASCULINO</td>\n",
       "      <td>60</td>\n",
       "      <td>20/12/2021</td>\n",
       "    </tr>\n",
       "    <tr>\n",
       "      <th>717</th>\n",
       "      <td>NaN</td>\n",
       "      <td>NaN</td>\n",
       "      <td>NaN</td>\n",
       "      <td>NaN</td>\n",
       "      <td>NaN</td>\n",
       "      <td>NaN</td>\n",
       "      <td>NaN</td>\n",
       "      <td>NaN</td>\n",
       "      <td>NaN</td>\n",
       "      <td>NaN</td>\n",
       "    </tr>\n",
       "    <tr>\n",
       "      <th>718</th>\n",
       "      <td>NaN</td>\n",
       "      <td>NaN</td>\n",
       "      <td>NaN</td>\n",
       "      <td>NaN</td>\n",
       "      <td>NaN</td>\n",
       "      <td>NaN</td>\n",
       "      <td>NaN</td>\n",
       "      <td>NaN</td>\n",
       "      <td>NaN</td>\n",
       "      <td>NaN</td>\n",
       "    </tr>\n",
       "    <tr>\n",
       "      <th>719</th>\n",
       "      <td>NaN</td>\n",
       "      <td>NaN</td>\n",
       "      <td>NaN</td>\n",
       "      <td>NaN</td>\n",
       "      <td>NaN</td>\n",
       "      <td>NaN</td>\n",
       "      <td>NaN</td>\n",
       "      <td>NaN</td>\n",
       "      <td>NaN</td>\n",
       "      <td>NaN</td>\n",
       "    </tr>\n",
       "  </tbody>\n",
       "</table>\n",
       "</div>"
      ],
      "text/plain": [
       "      ID_hecho       FECHA    AAAA    MM    DD        ROL VICTIMA       SEXO  \\\n",
       "715  2021-0095  30/12/2021  2021.0  12.0  30.0  CONDUCTOR    MOTO  MASCULINO   \n",
       "716  2021-0096  15/12/2021  2021.0  12.0  15.0  CONDUCTOR    AUTO  MASCULINO   \n",
       "717        NaN         NaN     NaN   NaN   NaN        NaN     NaN        NaN   \n",
       "718        NaN         NaN     NaN   NaN   NaN        NaN     NaN        NaN   \n",
       "719        NaN         NaN     NaN   NaN   NaN        NaN     NaN        NaN   \n",
       "\n",
       "    EDAD FECHA_FALLECIMIENTO  \n",
       "715   27          02/01/2022  \n",
       "716   60          20/12/2021  \n",
       "717  NaN                 NaN  \n",
       "718  NaN                 NaN  \n",
       "719  NaN                 NaN  "
      ]
     },
     "execution_count": 57,
     "metadata": {},
     "output_type": "execute_result"
    }
   ],
   "source": [
    "df_victims_clean.tail()"
   ]
  },
  {
   "cell_type": "code",
   "execution_count": 58,
   "metadata": {},
   "outputs": [
    {
     "name": "stdout",
     "output_type": "stream",
     "text": [
      "<class 'pandas.core.frame.DataFrame'>\n",
      "RangeIndex: 720 entries, 0 to 719\n",
      "Data columns (total 10 columns):\n",
      " #   Column               Non-Null Count  Dtype  \n",
      "---  ------               --------------  -----  \n",
      " 0   ID_hecho             717 non-null    object \n",
      " 1   FECHA                717 non-null    object \n",
      " 2   AAAA                 717 non-null    float64\n",
      " 3   MM                   717 non-null    float64\n",
      " 4   DD                   717 non-null    float64\n",
      " 5   ROL                  717 non-null    object \n",
      " 6   VICTIMA              717 non-null    object \n",
      " 7   SEXO                 717 non-null    object \n",
      " 8   EDAD                 717 non-null    object \n",
      " 9   FECHA_FALLECIMIENTO  717 non-null    object \n",
      "dtypes: float64(3), object(7)\n",
      "memory usage: 56.4+ KB\n"
     ]
    }
   ],
   "source": [
    "df_victims_clean.info()"
   ]
  },
  {
   "cell_type": "code",
   "execution_count": 59,
   "metadata": {},
   "outputs": [
    {
     "data": {
      "text/plain": [
       "ID_hecho               3\n",
       "FECHA                  3\n",
       "AAAA                   3\n",
       "MM                     3\n",
       "DD                     3\n",
       "ROL                    3\n",
       "VICTIMA                3\n",
       "SEXO                   3\n",
       "EDAD                   3\n",
       "FECHA_FALLECIMIENTO    3\n",
       "dtype: int64"
      ]
     },
     "execution_count": 59,
     "metadata": {},
     "output_type": "execute_result"
    }
   ],
   "source": [
    "df_victims_clean.isna().sum()"
   ]
  },
  {
   "cell_type": "markdown",
   "metadata": {},
   "source": [
    "## Data Transformation:\n",
    "- Step 1: Removed empty rows caused by conversion of excel to csv\n",
    "- Step 2: Checked for duplicates and none where found\n",
    "- Step 3: Corrected Data types\n",
    "- Step 4: Renaming all columns and content to correct language for smoothness in data analysis: English\n",
    "\n",
    "\n",
    "**Note:** Leftover missing values were considered normal and droping these rows would have caused the loss of crucial data"
   ]
  },
  {
   "cell_type": "markdown",
   "metadata": {},
   "source": [
    "**Remove Empty Rows**"
   ]
  },
  {
   "cell_type": "code",
   "execution_count": 60,
   "metadata": {},
   "outputs": [],
   "source": [
    "df_victims_clean.dropna(how='all', inplace=True)"
   ]
  },
  {
   "cell_type": "markdown",
   "metadata": {},
   "source": [
    "**Check for duplicates**"
   ]
  },
  {
   "cell_type": "code",
   "execution_count": 61,
   "metadata": {},
   "outputs": [
    {
     "data": {
      "text/html": [
       "<div>\n",
       "<style scoped>\n",
       "    .dataframe tbody tr th:only-of-type {\n",
       "        vertical-align: middle;\n",
       "    }\n",
       "\n",
       "    .dataframe tbody tr th {\n",
       "        vertical-align: top;\n",
       "    }\n",
       "\n",
       "    .dataframe thead th {\n",
       "        text-align: right;\n",
       "    }\n",
       "</style>\n",
       "<table border=\"1\" class=\"dataframe\">\n",
       "  <thead>\n",
       "    <tr style=\"text-align: right;\">\n",
       "      <th></th>\n",
       "      <th>ID_hecho</th>\n",
       "      <th>FECHA</th>\n",
       "      <th>AAAA</th>\n",
       "      <th>MM</th>\n",
       "      <th>DD</th>\n",
       "      <th>ROL</th>\n",
       "      <th>VICTIMA</th>\n",
       "      <th>SEXO</th>\n",
       "      <th>EDAD</th>\n",
       "      <th>FECHA_FALLECIMIENTO</th>\n",
       "    </tr>\n",
       "  </thead>\n",
       "  <tbody>\n",
       "  </tbody>\n",
       "</table>\n",
       "</div>"
      ],
      "text/plain": [
       "Empty DataFrame\n",
       "Columns: [ID_hecho, FECHA, AAAA, MM, DD, ROL, VICTIMA, SEXO, EDAD, FECHA_FALLECIMIENTO]\n",
       "Index: []"
      ]
     },
     "execution_count": 61,
     "metadata": {},
     "output_type": "execute_result"
    }
   ],
   "source": [
    "duplicates = df_victims_clean[df_victims_clean.duplicated()]\n",
    "duplicates.head()"
   ]
  },
  {
   "cell_type": "markdown",
   "metadata": {},
   "source": [
    "**Data type manipulation:**\n",
    "- Regular columns into their respective type"
   ]
  },
  {
   "cell_type": "code",
   "execution_count": 62,
   "metadata": {},
   "outputs": [],
   "source": [
    "import pandas as pd\n",
    "\n",
    "df_victims_clean['FECHA'] = pd.to_datetime(df_victims_clean['FECHA'], format='%d/%m/%Y', errors='coerce')\n",
    "df_victims_clean['FECHA_FALLECIMIENTO'] = df_victims_clean['FECHA_FALLECIMIENTO'].replace('SD', pd.NaT)\n",
    "df_victims_clean['FECHA_FALLECIMIENTO'] = pd.to_datetime(df_victims_clean['FECHA_FALLECIMIENTO'], format='%d/%m/%Y', errors='coerce')\n",
    "\n",
    "df_victims_clean['AAAA'] = df_victims_clean['AAAA'].astype(int)\n",
    "df_victims_clean['MM'] = df_victims_clean['MM'].astype(int)\n",
    "df_victims_clean['DD'] = df_victims_clean['DD'].astype(int)\n",
    "\n",
    "df_victims_clean['ID_hecho'] = df_victims_clean['ID_hecho'].astype(str)\n",
    "\n",
    "df_victims_clean['ROL'] = df_victims_clean['ROL'].astype('category')\n",
    "df_victims_clean['VICTIMA'] = df_victims_clean['VICTIMA'].astype('category')\n",
    "df_victims_clean['SEXO'] = df_victims_clean['SEXO'].astype('category')\n",
    "df_victims_clean['EDAD'] = pd.to_numeric(df_victims_clean['EDAD'], errors='coerce').fillna(-1).astype(int)\n"
   ]
  },
  {
   "cell_type": "code",
   "execution_count": 63,
   "metadata": {},
   "outputs": [
    {
     "name": "stdout",
     "output_type": "stream",
     "text": [
      "<class 'pandas.core.frame.DataFrame'>\n",
      "Index: 717 entries, 0 to 716\n",
      "Data columns (total 10 columns):\n",
      " #   Column               Non-Null Count  Dtype         \n",
      "---  ------               --------------  -----         \n",
      " 0   ID_hecho             717 non-null    object        \n",
      " 1   FECHA                717 non-null    datetime64[ns]\n",
      " 2   AAAA                 717 non-null    int32         \n",
      " 3   MM                   717 non-null    int32         \n",
      " 4   DD                   717 non-null    int32         \n",
      " 5   ROL                  717 non-null    category      \n",
      " 6   VICTIMA              717 non-null    category      \n",
      " 7   SEXO                 717 non-null    category      \n",
      " 8   EDAD                 717 non-null    int32         \n",
      " 9   FECHA_FALLECIMIENTO  649 non-null    datetime64[ns]\n",
      "dtypes: category(3), datetime64[ns](2), int32(4), object(1)\n",
      "memory usage: 36.4+ KB\n"
     ]
    }
   ],
   "source": [
    "df_victims_clean.info()"
   ]
  },
  {
   "cell_type": "markdown",
   "metadata": {},
   "source": [
    "**English Translation**"
   ]
  },
  {
   "cell_type": "code",
   "execution_count": 64,
   "metadata": {},
   "outputs": [],
   "source": [
    "# Column name translations from Spanish to English\n",
    "column_name_translations = {\n",
    "    'ID_hecho': 'Incident_ID',\n",
    "    'FECHA': 'Date',\n",
    "    'AAAA': 'Year',\n",
    "    'MM': 'Month',\n",
    "    'DD': 'Day',\n",
    "    'ROL': 'Role',\n",
    "    'VICTIMA': 'Victim',\n",
    "    'SEXO': 'Gender',\n",
    "    'EDAD': 'Age',\n",
    "    'FECHA_FALLECIMIENTO': 'Date_of_Death'\n",
    "}\n",
    "\n",
    "df_victims_clean.rename(columns=column_name_translations, inplace=True)\n",
    "\n",
    "\n"
   ]
  },
  {
   "cell_type": "code",
   "execution_count": 65,
   "metadata": {},
   "outputs": [
    {
     "name": "stdout",
     "output_type": "stream",
     "text": [
      "Unique Roles: ['CONDUCTOR', 'PASAJERO_ACOMPA¥ANTE', 'PEATON', 'SD', 'CICLISTA']\n",
      "Categories (5, object): ['CICLISTA', 'CONDUCTOR', 'PASAJERO_ACOMPA¥ANTE', 'PEATON', 'SD']\n",
      "Unique Victims: ['MOTO', 'AUTO', 'PEATON', 'SD', 'CARGAS', 'BICICLETA', 'PASAJEROS', 'MOVIL']\n",
      "Categories (8, object): ['AUTO', 'BICICLETA', 'CARGAS', 'MOTO', 'MOVIL', 'PASAJEROS', 'PEATON', 'SD']\n",
      "Unique Genders: ['MASCULINO', 'FEMENINO', 'SD']\n",
      "Categories (3, object): ['FEMENINO', 'MASCULINO', 'SD']\n"
     ]
    }
   ],
   "source": [
    "# find unqique values to translate\n",
    "\n",
    "unique_roles = df_victims_clean['Role'].unique()\n",
    "unique_victims = df_victims_clean['Victim'].unique()\n",
    "unique_genders = df_victims_clean['Gender'].unique()\n",
    "\n",
    "print(\"Unique Roles:\", unique_roles)\n",
    "print(\"Unique Victims:\", unique_victims)\n",
    "print(\"Unique Genders:\", unique_genders)\n"
   ]
  },
  {
   "cell_type": "code",
   "execution_count": 66,
   "metadata": {},
   "outputs": [],
   "source": [
    "# translate content of columns 'role', `victim`, `gender`\n",
    "\n",
    "role_translation = {\n",
    "    'CONDUCTOR': 'Driver',\n",
    "    'PASAJERO_ACOMPA¥ANTE': 'Passenger_Companion',  \n",
    "    'PEATON': 'Pedestrian',\n",
    "    'SD': 'No Data',\n",
    "    'CICLISTA': 'Cyclist'\n",
    "}\n",
    "\n",
    "victim_translation = {\n",
    "    'MOTO': 'Motorcycle',\n",
    "    'AUTO': 'Car',\n",
    "    'PEATON': 'Pedestrian',\n",
    "    'SD': 'No Data',\n",
    "    'CARGAS': 'Cargo Vehicle',\n",
    "    'BICICLETA': 'Bicycle',\n",
    "    'PASAJEROS': 'Passengers',\n",
    "    'MOVIL': 'Emergency Vehicle'\n",
    "}\n",
    "\n",
    "gender_translation = {\n",
    "    'MASCULINO': 'Male',\n",
    "    'FEMENINO': 'Female',\n",
    "    'SD': 'No Data'\n",
    "}\n",
    "\n",
    "def translate_term(term, translation_dict):\n",
    "    return translation_dict.get(term, term)  \n",
    "\n",
    "df_victims_clean['Role'] = df_victims_clean['Role'].apply(translate_term, args=(role_translation,))\n",
    "df_victims_clean['Victim'] = df_victims_clean['Victim'].apply(translate_term, args=(victim_translation,))\n",
    "df_victims_clean['Gender'] = df_victims_clean['Gender'].apply(translate_term, args=(gender_translation,))"
   ]
  },
  {
   "cell_type": "code",
   "execution_count": 67,
   "metadata": {},
   "outputs": [
    {
     "data": {
      "text/html": [
       "<div>\n",
       "<style scoped>\n",
       "    .dataframe tbody tr th:only-of-type {\n",
       "        vertical-align: middle;\n",
       "    }\n",
       "\n",
       "    .dataframe tbody tr th {\n",
       "        vertical-align: top;\n",
       "    }\n",
       "\n",
       "    .dataframe thead th {\n",
       "        text-align: right;\n",
       "    }\n",
       "</style>\n",
       "<table border=\"1\" class=\"dataframe\">\n",
       "  <thead>\n",
       "    <tr style=\"text-align: right;\">\n",
       "      <th></th>\n",
       "      <th>Incident_ID</th>\n",
       "      <th>Date</th>\n",
       "      <th>Year</th>\n",
       "      <th>Month</th>\n",
       "      <th>Day</th>\n",
       "      <th>Role</th>\n",
       "      <th>Victim</th>\n",
       "      <th>Gender</th>\n",
       "      <th>Age</th>\n",
       "      <th>Date_of_Death</th>\n",
       "    </tr>\n",
       "  </thead>\n",
       "  <tbody>\n",
       "    <tr>\n",
       "      <th>712</th>\n",
       "      <td>2021-0092</td>\n",
       "      <td>2021-12-12</td>\n",
       "      <td>2021</td>\n",
       "      <td>12</td>\n",
       "      <td>12</td>\n",
       "      <td>Pedestrian</td>\n",
       "      <td>Pedestrian</td>\n",
       "      <td>Female</td>\n",
       "      <td>50</td>\n",
       "      <td>2021-12-12</td>\n",
       "    </tr>\n",
       "    <tr>\n",
       "      <th>713</th>\n",
       "      <td>2021-0093</td>\n",
       "      <td>2021-12-13</td>\n",
       "      <td>2021</td>\n",
       "      <td>12</td>\n",
       "      <td>13</td>\n",
       "      <td>Passenger_Companion</td>\n",
       "      <td>Motorcycle</td>\n",
       "      <td>Female</td>\n",
       "      <td>18</td>\n",
       "      <td>2021-12-18</td>\n",
       "    </tr>\n",
       "    <tr>\n",
       "      <th>714</th>\n",
       "      <td>2021-0094</td>\n",
       "      <td>2021-12-20</td>\n",
       "      <td>2021</td>\n",
       "      <td>12</td>\n",
       "      <td>20</td>\n",
       "      <td>Passenger_Companion</td>\n",
       "      <td>Motorcycle</td>\n",
       "      <td>Female</td>\n",
       "      <td>43</td>\n",
       "      <td>2021-12-20</td>\n",
       "    </tr>\n",
       "    <tr>\n",
       "      <th>715</th>\n",
       "      <td>2021-0095</td>\n",
       "      <td>2021-12-30</td>\n",
       "      <td>2021</td>\n",
       "      <td>12</td>\n",
       "      <td>30</td>\n",
       "      <td>Driver</td>\n",
       "      <td>Motorcycle</td>\n",
       "      <td>Male</td>\n",
       "      <td>27</td>\n",
       "      <td>2022-01-02</td>\n",
       "    </tr>\n",
       "    <tr>\n",
       "      <th>716</th>\n",
       "      <td>2021-0096</td>\n",
       "      <td>2021-12-15</td>\n",
       "      <td>2021</td>\n",
       "      <td>12</td>\n",
       "      <td>15</td>\n",
       "      <td>Driver</td>\n",
       "      <td>Car</td>\n",
       "      <td>Male</td>\n",
       "      <td>60</td>\n",
       "      <td>2021-12-20</td>\n",
       "    </tr>\n",
       "  </tbody>\n",
       "</table>\n",
       "</div>"
      ],
      "text/plain": [
       "    Incident_ID       Date  Year  Month  Day                 Role      Victim  \\\n",
       "712   2021-0092 2021-12-12  2021     12   12           Pedestrian  Pedestrian   \n",
       "713   2021-0093 2021-12-13  2021     12   13  Passenger_Companion  Motorcycle   \n",
       "714   2021-0094 2021-12-20  2021     12   20  Passenger_Companion  Motorcycle   \n",
       "715   2021-0095 2021-12-30  2021     12   30               Driver  Motorcycle   \n",
       "716   2021-0096 2021-12-15  2021     12   15               Driver         Car   \n",
       "\n",
       "     Gender  Age Date_of_Death  \n",
       "712  Female   50    2021-12-12  \n",
       "713  Female   18    2021-12-18  \n",
       "714  Female   43    2021-12-20  \n",
       "715    Male   27    2022-01-02  \n",
       "716    Male   60    2021-12-20  "
      ]
     },
     "execution_count": 67,
     "metadata": {},
     "output_type": "execute_result"
    }
   ],
   "source": [
    "df_victims_clean.tail()"
   ]
  },
  {
   "cell_type": "markdown",
   "metadata": {},
   "source": [
    "## Loading/Saving the Data\n",
    "1. Saved dataframes: `df_victims_clean`\n",
    "2. Saved the data in`.csv` \n",
    "3. File Path: `'../data/processed/'`"
   ]
  },
  {
   "cell_type": "code",
   "execution_count": 68,
   "metadata": {},
   "outputs": [],
   "source": [
    "csv_file_path = '../data/processed/df_victims_clean.csv'\n",
    "\n",
    "df_victims_clean.to_csv(csv_file_path, index=False)"
   ]
  },
  {
   "cell_type": "markdown",
   "metadata": {},
   "source": []
  }
 ],
 "metadata": {
  "kernelspec": {
   "display_name": "Python 3",
   "language": "python",
   "name": "python3"
  },
  "language_info": {
   "codemirror_mode": {
    "name": "ipython",
    "version": 3
   },
   "file_extension": ".py",
   "mimetype": "text/x-python",
   "name": "python",
   "nbconvert_exporter": "python",
   "pygments_lexer": "ipython3",
   "version": "3.11.2"
  }
 },
 "nbformat": 4,
 "nbformat_minor": 2
}
